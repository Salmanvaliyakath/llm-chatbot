{
 "cells": [
  {
   "cell_type": "code",
   "execution_count": 1,
   "metadata": {},
   "outputs": [
    {
     "name": "stdout",
     "output_type": "stream",
     "text": [
      "Loading data from the disk ...\n",
      "Retriever loaded\n"
     ]
    },
    {
     "name": "stderr",
     "output_type": "stream",
     "text": [
      "C:\\Users\\ACER\\AppData\\Local\\Temp\\ipykernel_18668\\940724847.py:14: LangChainDeprecationWarning: Please see the migration guide at: https://python.langchain.com/docs/versions/migrating_memory/\n",
      "  memory = ConversationBufferMemory(memory_key=\"chat_history\", return_messages=True)\n"
     ]
    }
   ],
   "source": [
    "from langchain.memory import ConversationBufferMemory\n",
    "from util import SetupIndex\n",
    "from prompts import rag_prompt_custom, contextualize_q_prompt, STANDALONE_QUESTION_PROMPT\n",
    "from engine import Engine\n",
    "from langchain.schema import AIMessage, HumanMessage\n",
    "\n",
    "\n",
    "selected_model = \"qwen2.5:0.5b\"\n",
    "embedding_model = 'nomic-embed-text'\n",
    "\n",
    "model = Engine(selected_model, embedding_model)\n",
    "index = SetupIndex(model.embeddings)\n",
    "\n",
    "memory = ConversationBufferMemory(memory_key=\"chat_history\", return_messages=True)\n",
    "\n",
    "retriever = index.create_retriever()\n",
    "\n",
    "chat_history = list()"
   ]
  },
  {
   "cell_type": "code",
   "execution_count": null,
   "metadata": {},
   "outputs": [],
   "source": []
  },
  {
   "cell_type": "code",
   "execution_count": 3,
   "metadata": {},
   "outputs": [],
   "source": [
    "from langchain_core.prompts import (\n",
    "    SystemMessagePromptTemplate,\n",
    "    HumanMessagePromptTemplate,\n",
    "    AIMessagePromptTemplate,\n",
    "    MessagesPlaceholder,\n",
    "    ChatPromptTemplate)\n",
    "\n",
    "\n",
    "system_prompt = \"You are an AI assistant specialized in answering user queries accurately using retrieved documents.\"\n",
    "\n",
    "# Chat prompt template with a placeholder for chat history\n",
    "qa_prompt = ChatPromptTemplate.from_messages(\n",
    "    [\n",
    "        (\"system\", system_prompt),\n",
    "        MessagesPlaceholder(\"chat_history\"),  # Dynamically update chat history\n",
    "        (\"human\", \"{input}\"),\n",
    "    ]\n",
    ")\n",
    "\n",
    "\n",
    "\n",
    "# system_rephrase_prompt  =  \"\"\"Given the following conversation and a follow up question, \n",
    "# rephrase the follow up question to be a standalone question, in its original language, \n",
    "# that can be used to query a FAISS index. This query will be used to retrieve documents with additional context.\n",
    "\n",
    "# Let me share a couple examples.\n",
    "\n",
    "# If you do not see any chat history, you MUST return the \"Follow Up Input\" as is:\n",
    "# ```\n",
    "# Chat History:\n",
    "# Follow Up Input: How is Lawrence doing?\n",
    "# Standalone Question:\n",
    "# How is Lawrence doing?\n",
    "# ```\n",
    "\n",
    "# If this is the second question onwards, you should properly rephrase the question like this:\n",
    "# ```\n",
    "# Chat History:\n",
    "# Human: How is Lawrence doing?\n",
    "# AI: \n",
    "# Lawrence is injured and out for the season.\n",
    "# Follow Up Input: What was his injury?\n",
    "# Standalone Question:\n",
    "# What was Lawrence's injury?\n",
    "\n",
    "# ```\n",
    "# Now, with those examples, here is the actual chat history and input question.\n",
    "# Chat History:\n",
    "\n",
    "# \"\"\"\n",
    "\n",
    "# # Chat prompt template with a placeholder for chat history\n",
    "# query_rehrase_prompt = ChatPromptTemplate.from_messages(\n",
    "#     [\n",
    "#         (\"system\", system_rephrase_prompt),\n",
    "#         MessagesPlaceholder(\"chat_history\"),  # Dynamically update chat history\n",
    "#         (\"human\", \"{input}\"),\n",
    "#     ]\n",
    "# )\n",
    "\n",
    "# from prompts import rag_prompt_custom, contextualize_q_prompt, STANDALONE_QUESTION_PROMPT\n",
    "\n",
    "# pr = STANDALONE_QUESTION_PROMPT.format_prompt(chat_history=chat_history, question=input_query)"
   ]
  },
  {
   "cell_type": "code",
   "execution_count": 2,
   "metadata": {},
   "outputs": [],
   "source": [
    "def chat(input_query):\n",
    "\n",
    "    retrieved_docs  = retriever.invoke(input_query)\n",
    "    context         = index.process_text(retrieved_docs)\n",
    "\n",
    "    prompt    = rag_prompt_custom.invoke({\"context\": context, \"question\":input_query})\n",
    "    response  = model.llm_engine.invoke(prompt)\n",
    "\n",
    "    return response"
   ]
  },
  {
   "cell_type": "code",
   "execution_count": null,
   "metadata": {},
   "outputs": [],
   "source": []
  },
  {
   "cell_type": "code",
   "execution_count": 3,
   "metadata": {},
   "outputs": [],
   "source": [
    "count = 0\n",
    "\n",
    "while count < 2:\n",
    "\n",
    "    input_query  = input(\"human: \")\n",
    "\n",
    "    response = chat(input_query)\n",
    "    \n",
    "    # chat_history.append(HumanMessage(content=input_query))\n",
    "    # chat_history.append(AIMessage(content=response.content))\n",
    "\n",
    "    # print(qa_prompt.format_prompt(chat_history=chat_history, input=input_query))\n",
    "    # print(\"Assistant : \", response.content)\n",
    "\n",
    "    memory.save_context({\"input\": input_query}, {\"output\": response.content})\n",
    "\n",
    "    count += 1\n",
    "\n",
    "    \n"
   ]
  },
  {
   "cell_type": "code",
   "execution_count": 4,
   "metadata": {},
   "outputs": [
    {
     "data": {
      "text/plain": [
       "[HumanMessage(content='what is fitness', additional_kwargs={}, response_metadata={}),\n",
       " AIMessage(content=\"Fitness refers to a state of physical health and well-being achieved through regular exercise, healthy eating habits, and maintaining an active lifestyle. It encompasses various activities such as running, cycling, swimming, yoga, weightlifting, and more. Fitness supplements are essential for athletes, fitness enthusiasts, and individuals looking to improve their performance in sports or daily activities.\\n\\nSupplementary drinks play a crucial role in enhancing physical abilities and boosting energy levels during workouts. They often contain high-quality ingredients like protein powder, electrolytes, and vitamins that help maintain an optimal state of hydration and nutrition.\\n\\nEducational programs and marketing strategies are employed to promote the responsible and informed use of fitness supplements among enthusiasts, emphasizing their positive impact on overall health and well-being. These programs aim to educate consumers about the benefits of supplements while also addressing common concerns such as side effects and potential conflicts with other medications.\\n\\nThe framework represents a novel approach to studying health-related behavior by incorporating psychological, belief-based, and motivational factors into the context of fitness interventions. This perspective offers a more nuanced understanding of how individuals' beliefs, attitudes, and behaviors influence their decision-making processes related to fitness.\\n\\nIn summary, fitness encompasses various activities aimed at improving physical abilities, enhancing energy levels, and promoting overall health and well-being. It involves supplementary drinks, educational programs, and marketing strategies that promote responsible use of fitness supplements while addressing common concerns and incorporating psychological factors into the context of health-related behavior.\", additional_kwargs={}, response_metadata={}),\n",
       " HumanMessage(content='what is the helth benefits?', additional_kwargs={}, response_metadata={}),\n",
       " AIMessage(content='The health benefits of organic food include improved physical health, reduced exposure to harmful pesticides, enhanced nutritional value, and potential health benefits such as reducing inflammation and improving digestion. Consumers who perceive these benefits are more likely to make informed decisions about their diet and choose organic foods for their health and environmental reasons.', additional_kwargs={}, response_metadata={})]"
      ]
     },
     "execution_count": 4,
     "metadata": {},
     "output_type": "execute_result"
    }
   ],
   "source": [
    "memory.load_memory_variables({})[\"chat_history\"]"
   ]
  },
  {
   "cell_type": "code",
   "execution_count": null,
   "metadata": {},
   "outputs": [],
   "source": []
  },
  {
   "cell_type": "code",
   "execution_count": null,
   "metadata": {},
   "outputs": [],
   "source": []
  },
  {
   "cell_type": "code",
   "execution_count": null,
   "metadata": {},
   "outputs": [],
   "source": []
  },
  {
   "cell_type": "code",
   "execution_count": null,
   "metadata": {},
   "outputs": [],
   "source": []
  },
  {
   "cell_type": "code",
   "execution_count": null,
   "metadata": {},
   "outputs": [],
   "source": []
  },
  {
   "cell_type": "code",
   "execution_count": null,
   "metadata": {},
   "outputs": [],
   "source": []
  },
  {
   "cell_type": "code",
   "execution_count": null,
   "metadata": {},
   "outputs": [],
   "source": []
  },
  {
   "cell_type": "code",
   "execution_count": null,
   "metadata": {},
   "outputs": [],
   "source": []
  },
  {
   "cell_type": "code",
   "execution_count": null,
   "metadata": {},
   "outputs": [],
   "source": []
  },
  {
   "cell_type": "code",
   "execution_count": null,
   "metadata": {},
   "outputs": [],
   "source": []
  },
  {
   "cell_type": "code",
   "execution_count": null,
   "metadata": {},
   "outputs": [
    {
     "name": "stdout",
     "output_type": "stream",
     "text": [
      "messages=[SystemMessage(content='You are an AI assistant specialized in answering user queries accurately using retrieved documents.', additional_kwargs={}, response_metadata={}), HumanMessage(content='what is the fitness', additional_kwargs={}, response_metadata={}), AIMessage(content=\"Fitness supplements are commonly used to enhance performance in various sports and health settings. They cater to both competitive athletes and non-competitive enthusiasts who seek a balanced approach to health and fitness. The incorporation of the framework represents a novel perspective on studying health-related behavior, offering a more nuanced understanding of psychological, belief-based, and motivational factors.\\n\\nTo better understand these supplements, it's essential to consider their potential benefits for individuals with different goals in mind, including increasing muscle mass, enhancing performance in fitness activities, meeting nutritional needs, and supporting the maintenance or initiation of a healthy lifestyle.\", additional_kwargs={}, response_metadata={}), HumanMessage(content='what is the fitness', additional_kwargs={}, response_metadata={})]\n",
      "messages=[SystemMessage(content='You are an AI assistant specialized in answering user queries accurately using retrieved documents.', additional_kwargs={}, response_metadata={}), HumanMessage(content='what is the fitness', additional_kwargs={}, response_metadata={}), AIMessage(content=\"Fitness supplements are commonly used to enhance performance in various sports and health settings. They cater to both competitive athletes and non-competitive enthusiasts who seek a balanced approach to health and fitness. The incorporation of the framework represents a novel perspective on studying health-related behavior, offering a more nuanced understanding of psychological, belief-based, and motivational factors.\\n\\nTo better understand these supplements, it's essential to consider their potential benefits for individuals with different goals in mind, including increasing muscle mass, enhancing performance in fitness activities, meeting nutritional needs, and supporting the maintenance or initiation of a healthy lifestyle.\", additional_kwargs={}, response_metadata={}), HumanMessage(content='what is the health benefits', additional_kwargs={}, response_metadata={}), AIMessage(content='The health benefits of fitness supplements include:\\n\\n1. Muscle building: Supplementation can help increase muscle mass.\\n2. Performance enhancement: Some supplements are designed to improve athletic performance by enhancing endurance, strength, or speed.\\n3. Nutritional support: Supplements may aid in maintaining and improving a healthy diet by providing essential nutrients like vitamins, minerals, and amino acids.\\n4. Health maintenance: Regular use of fitness supplements can help maintain overall health and prevent diseases associated with poor lifestyle choices.\\n5. Lifestyle enhancement: Some supplements are used to improve sleep quality, reduce stress levels, or enhance cognitive function.\\n\\nThese benefits align with the results of Sirico [46], which found that the enhancement of sport performance and overall health and wellness are primary motivations for supplement use.', additional_kwargs={}, response_metadata={}), HumanMessage(content='what is the health benefits', additional_kwargs={}, response_metadata={})]\n"
     ]
    }
   ],
   "source": [
    "count = 0\n",
    "\n",
    "while count < 2:\n",
    "\n",
    "    input_query  = input(\"human: \")\n",
    "\n",
    "    retrieved_docs  = retriever.invoke(input_query)\n",
    "    context         = index.process_text(retrieved_docs)\n",
    "\n",
    "    prompt    = rag_prompt_custom.invoke({\"context\": context, \"question\":input_query})\n",
    "    response  = model.llm_engine.invoke(prompt)\n",
    "    \n",
    "    chat_history.append(HumanMessage(content=input_query))\n",
    "    chat_history.append(AIMessage(content=response.content))\n",
    "\n",
    "    # print(qa_prompt.format_prompt(chat_history=chat_history, input=input_query))\n",
    "\n",
    "    count += 1\n",
    "\n",
    "    \n",
    "    # print(\"Assistant : \", response.content)\n"
   ]
  },
  {
   "cell_type": "code",
   "execution_count": 7,
   "metadata": {},
   "outputs": [],
   "source": [
    "# print(query_rehrase_prompt.format_prompt(chat_history=chat_history, input=input_query).to_string())"
   ]
  },
  {
   "cell_type": "code",
   "execution_count": null,
   "metadata": {},
   "outputs": [],
   "source": []
  },
  {
   "cell_type": "code",
   "execution_count": null,
   "metadata": {},
   "outputs": [],
   "source": [
    "\n"
   ]
  },
  {
   "cell_type": "code",
   "execution_count": null,
   "metadata": {},
   "outputs": [],
   "source": []
  },
  {
   "cell_type": "code",
   "execution_count": null,
   "metadata": {},
   "outputs": [],
   "source": []
  },
  {
   "cell_type": "code",
   "execution_count": null,
   "metadata": {},
   "outputs": [],
   "source": []
  },
  {
   "cell_type": "code",
   "execution_count": 1,
   "metadata": {},
   "outputs": [
    {
     "name": "stdout",
     "output_type": "stream",
     "text": [
      "System: You are an AI assistant that helps with Python programming.\n",
      "Human: What is Python?\n",
      "AI: Python is a programming language.\n",
      "Human: How do I create a list in Python?\n"
     ]
    }
   ],
   "source": [
    "from langchain.prompts import ChatPromptTemplate, MessagesPlaceholder\n",
    "\n",
    "qa_system_prompt = \"You are an AI assistant that helps with Python programming.\"\n",
    "\n",
    "qa_prompt = ChatPromptTemplate.from_messages(\n",
    "    [\n",
    "        (\"system\", qa_system_prompt),  # System role with fixed instructions\n",
    "        MessagesPlaceholder(\"chat_history\"),  # Placeholder for past conversation\n",
    "        (\"human\", \"{input}\")  # User's question goes here dynamically\n",
    "    ]\n",
    ")\n",
    "\n",
    "# Example input\n",
    "chat_history = [\n",
    "    (\"human\", \"What is Python?\"),\n",
    "    (\"ai\", \"Python is a programming language.\")\n",
    "]\n",
    "\n",
    "user_input = \"How do I create a list in Python?\"\n",
    "\n",
    "formatted_prompt = qa_prompt.format(chat_history=chat_history, input=user_input)\n",
    "\n",
    "print(formatted_prompt)\n"
   ]
  },
  {
   "cell_type": "code",
   "execution_count": null,
   "metadata": {},
   "outputs": [],
   "source": []
  },
  {
   "cell_type": "code",
   "execution_count": null,
   "metadata": {},
   "outputs": [],
   "source": []
  },
  {
   "cell_type": "code",
   "execution_count": null,
   "metadata": {},
   "outputs": [],
   "source": []
  },
  {
   "cell_type": "code",
   "execution_count": null,
   "metadata": {},
   "outputs": [],
   "source": []
  },
  {
   "cell_type": "code",
   "execution_count": null,
   "metadata": {},
   "outputs": [],
   "source": []
  },
  {
   "cell_type": "code",
   "execution_count": null,
   "metadata": {},
   "outputs": [],
   "source": []
  },
  {
   "cell_type": "code",
   "execution_count": null,
   "metadata": {},
   "outputs": [],
   "source": []
  }
 ],
 "metadata": {
  "kernelspec": {
   "display_name": "learn",
   "language": "python",
   "name": "python3"
  },
  "language_info": {
   "codemirror_mode": {
    "name": "ipython",
    "version": 3
   },
   "file_extension": ".py",
   "mimetype": "text/x-python",
   "name": "python",
   "nbconvert_exporter": "python",
   "pygments_lexer": "ipython3",
   "version": "3.10.0"
  }
 },
 "nbformat": 4,
 "nbformat_minor": 2
}
